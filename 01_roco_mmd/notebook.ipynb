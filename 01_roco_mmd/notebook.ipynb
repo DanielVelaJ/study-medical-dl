{
  "cells": [
    {
      "cell_type": "markdown",
      "metadata": {
        "vscode": {
          "languageId": "raw"
        }
      },
      "source": [
        "# 🔬 Medical CLIP Models MMD Analysis\n",
        "## Replicating Figure 4 from \"Open-PMC-18M\" (arXiv:2506.02738)\n",
        "\n",
        "**Paper Reference**: Baghbanzadeh et al. \"Open-PMC-18M: A High-Fidelity Large Scale Medical Dataset for Multimodal Representation Learning\" \n",
        "\n",
        "**Goal**: Use Maximum Mean Discrepancy (MMD) to quantify that different CLIP models create statistically different embedding distributions in biomedical vision-language tasks.\n",
        "\n",
        "**Method**: Following Section 4.6 of the paper:\n",
        "- Extract embeddings using vision encoders trained on different datasets\n",
        "- Compute MMD using RBF kernel to quantify distribution differences  \n",
        "- Perform permutation test (100 iterations) to assess statistical significance\n",
        "- Target p-values < 0.01 for significance (following their Wilcoxon test threshold)\n"
      ]
    },
    {
      "cell_type": "markdown",
      "metadata": {
        "vscode": {
          "languageId": "raw"
        }
      },
      "source": [
        "## 📊 Step 1: Load ROCO Medical Image Dataset\n",
        "\n",
        "**Input**: ROCO dataset (200 samples for efficiency)\n",
        "**Output**: List of PIL Images for encoding\n",
        "**Purpose**: Biomedical images to generate embeddings for comparison\n"
      ]
    },
    {
      "cell_type": "code",
      "execution_count": 77,
      "metadata": {},
      "outputs": [
        {
          "name": "stdout",
          "output_type": "stream",
          "text": [
            "📥 Loading ROCO medical imaging dataset...\n",
            "🔄 Loading from local cache...\n",
            "✅ Loaded 200 images from local cache\n",
            "✅ Final dataset: 200 medical images\n",
            "📋 Sample caption:  Axial MRI (coronal view).\n",
            "...\n",
            "🖼️ Image type: <class 'PIL.JpegImagePlugin.JpegImageFile'>\n"
          ]
        }
      ],
      "source": [
        "# Import required libraries\n",
        "import os\n",
        "import torch\n",
        "import torch.nn.functional as F\n",
        "import numpy as np\n",
        "import open_clip\n",
        "from datasets import load_dataset, load_from_disk\n",
        "from sklearn.manifold import TSNE\n",
        "import matplotlib.pyplot as plt\n",
        "import seaborn as sns\n",
        "from tqdm import tqdm\n",
        "import warnings\n",
        "warnings.filterwarnings('ignore')\n",
        "\n",
        "# Load ROCO dataset (subset for efficiency)\n",
        "print(\"📥 Loading ROCO medical imaging dataset...\")\n",
        "\n",
        "# Try to load from local cache first, fallback to online download\n",
        "try:\n",
        "    # Check if we have locally cached data\n",
        "    if os.path.exists(\"data/roco_200\"):\n",
        "        print(\"🔄 Loading from local cache...\")\n",
        "        dataset = load_from_disk(\"data/roco_200\")\n",
        "        print(f\"✅ Loaded {len(dataset)} images from local cache\")\n",
        "    else:\n",
        "        raise FileNotFoundError(\"Local cache not found, downloading...\")\n",
        "        \n",
        "except:\n",
        "    # Download from HuggingFace if no local cache\n",
        "    print(\"🌐 Downloading ROCO dataset from HuggingFace...\")\n",
        "    dataset = load_dataset(\"mdwiratathya/ROCO-radiology\", split=\"test\")\n",
        "    dataset = dataset.select(range(200))  # 200 samples for efficiency\n",
        "    \n",
        "    # Optionally save to local cache for future runs\n",
        "    os.makedirs(\"data\", exist_ok=True)\n",
        "    dataset.save_to_disk(\"data/roco_200\")\n",
        "    print(\"💾 Saved dataset to local cache: data/roco_200\")\n",
        "\n",
        "# Ensure we have exactly 200 samples\n",
        "dataset = dataset.select(range(min(200, len(dataset))))\n",
        "\n",
        "print(f\"✅ Final dataset: {len(dataset)} medical images\")\n",
        "print(f\"📋 Sample caption: {dataset[0]['caption'][:100]}...\")\n",
        "print(f\"🖼️ Image type: {type(dataset[0]['image'])}\")\n"
      ]
    },
    {
      "cell_type": "markdown",
      "metadata": {
        "vscode": {
          "languageId": "raw"
        }
      },
      "source": [
        "## 🤖 Step 2: Load Model A - BiomedCLIP (Medical Specialist)\n",
        "\n",
        "**Input**: HuggingFace model identifier\n",
        "**Output**: \n",
        "- `model_biomedclip`: Vision encoder [torch.nn.Module]\n",
        "- `preprocess_biomedclip`: Preprocessing pipeline [torchvision.transforms.Compose]\n",
        "**Purpose**: Medical domain-specific CLIP model trained on biomedical literature\n"
      ]
    },
    {
      "cell_type": "code",
      "execution_count": 78,
      "metadata": {},
      "outputs": [
        {
          "name": "stdout",
          "output_type": "stream",
          "text": [
            "🔬 Loading BiomedCLIP (Medical Specialist Model)...\n",
            "✅ BiomedCLIP loaded on cuda\n",
            "📐 Model device: cuda:0\n"
          ]
        }
      ],
      "source": [
        "print(\"🔬 Loading BiomedCLIP (Medical Specialist Model)...\")\n",
        "\n",
        "try:\n",
        "    # Load BiomedCLIP - specialized for medical images\n",
        "    model_biomedclip, preprocess_biomedclip = open_clip.create_model_from_pretrained(\n",
        "        'hf-hub:microsoft/BiomedCLIP-PubMedBERT_256-vit_base_patch16_224'\n",
        "    )\n",
        "    \n",
        "    # Set to evaluation mode\n",
        "    model_biomedclip.eval()\n",
        "    \n",
        "    # Move to GPU if available\n",
        "    device = torch.device('cuda' if torch.cuda.is_available() else 'cpu')\n",
        "    model_biomedclip = model_biomedclip.to(device)\n",
        "    \n",
        "    print(f\"✅ BiomedCLIP loaded on {device}\")\n",
        "    print(f\"📐 Model device: {next(model_biomedclip.parameters()).device}\")\n",
        "    \n",
        "except Exception as e:\n",
        "    print(f\"❌ Failed to load BiomedCLIP: {e}\")\n",
        "    raise\n"
      ]
    },
    {
      "cell_type": "markdown",
      "metadata": {
        "vscode": {
          "languageId": "raw"
        }
      },
      "source": [
        "## 🌐 Step 3: Load Model B - OpenAI CLIP (General Purpose)\n",
        "\n",
        "**Input**: OpenCLIP model architecture and pretrained weights\n",
        "**Output**:\n",
        "- `model_openai`: Vision encoder [torch.nn.Module] \n",
        "- `preprocess_openai`: Preprocessing pipeline [torchvision.transforms.Compose]\n",
        "**Purpose**: General-domain CLIP model for comparison baseline\n"
      ]
    },
    {
      "cell_type": "code",
      "execution_count": 79,
      "metadata": {},
      "outputs": [
        {
          "name": "stdout",
          "output_type": "stream",
          "text": [
            "🌐 Loading OpenAI CLIP (General Purpose Model)...\n",
            "✅ OpenAI CLIP loaded on cuda\n",
            "📐 Model device: cuda:0\n"
          ]
        }
      ],
      "source": [
        "print(\"🌐 Loading OpenAI CLIP (General Purpose Model)...\")\n",
        "\n",
        "try:\n",
        "    # Load OpenAI CLIP - general domain model\n",
        "    model_openai, _, preprocess_openai = open_clip.create_model_and_transforms(\n",
        "        'ViT-B-32', \n",
        "        pretrained='openai'\n",
        "    )\n",
        "    \n",
        "    # Set to evaluation mode\n",
        "    model_openai.eval()\n",
        "    model_openai = model_openai.to(device)\n",
        "    \n",
        "    print(f\"✅ OpenAI CLIP loaded on {device}\")\n",
        "    print(f\"📐 Model device: {next(model_openai.parameters()).device}\")\n",
        "    \n",
        "except Exception as e:\n",
        "    print(f\"❌ Failed to load OpenAI CLIP: {e}\")\n",
        "    print(\"🔄 Will create synthetic comparison instead\")\n",
        "    model_openai = None\n",
        "    preprocess_openai = None\n"
      ]
    },
    {
      "cell_type": "markdown",
      "metadata": {
        "vscode": {
          "languageId": "raw"
        }
      },
      "source": [
        "## 🧮 Step 4: Extract Embeddings from Model A\n",
        "\n",
        "**Input**: \n",
        "- Images: [200 PIL Images]\n",
        "- Model: BiomedCLIP encoder\n",
        "- Preprocessing: BiomedCLIP transforms\n",
        "\n",
        "**Output**: \n",
        "- `embeddings_A`: [200, embedding_dim] tensor\n",
        "- L2 normalized embeddings for fair comparison\n",
        "\n",
        "**Process**: PIL Image → Tensor [3,224,224] → Batch [32,3,224,224] → Embeddings [32,512] → Normalized\n"
      ]
    },
    {
      "cell_type": "code",
      "execution_count": 80,
      "metadata": {},
      "outputs": [
        {
          "name": "stdout",
          "output_type": "stream",
          "text": [
            "🔄 Extracting embeddings with BiomedCLIP...\n"
          ]
        },
        {
          "name": "stderr",
          "output_type": "stream",
          "text": [
            "BiomedCLIP encoding: 100%|██████████| 7/7 [01:28<00:00, 12.67s/it]"
          ]
        },
        {
          "name": "stdout",
          "output_type": "stream",
          "text": [
            "✅ BiomedCLIP embeddings shape: torch.Size([200, 512])\n",
            "📊 Embedding range: [-0.308, 0.301]\n",
            "🔢 L2 norm check (should be ~1.0): 1.000\n"
          ]
        },
        {
          "name": "stderr",
          "output_type": "stream",
          "text": [
            "\n"
          ]
        }
      ],
      "source": [
        "def extract_embeddings(model, preprocess, images, batch_size=32, model_name=\"Model\"):\n",
        "    \"\"\"\n",
        "    Extract embeddings from images using CLIP model\n",
        "    \n",
        "    Args:\n",
        "        model: CLIP vision encoder\n",
        "        preprocess: Image preprocessing function\n",
        "        images: List of PIL images\n",
        "        batch_size: Processing batch size\n",
        "        model_name: Name for logging\n",
        "    \n",
        "    Returns:\n",
        "        embeddings: [n_images, embedding_dim] L2-normalized tensor\n",
        "    \"\"\"\n",
        "    embeddings = []\n",
        "    \n",
        "    print(f\"🔄 Extracting embeddings with {model_name}...\")\n",
        "    \n",
        "    with torch.no_grad():\n",
        "        for i in tqdm(range(0, len(images), batch_size), desc=f\"{model_name} encoding\"):\n",
        "            # Get batch of images\n",
        "            batch_images = images[i:i+batch_size]\n",
        "            \n",
        "            # Preprocess: PIL Images → Tensors [batch_size, 3, 224, 224]\n",
        "            batch_tensors = torch.stack([\n",
        "                preprocess(img) for img in batch_images\n",
        "            ]).to(device)\n",
        "            \n",
        "            # Extract embeddings: [batch_size, 3, 224, 224] → [batch_size, embedding_dim]\n",
        "            batch_embeddings = model.encode_image(batch_tensors)\n",
        "            \n",
        "            # L2 normalize (following CLIP standard)\n",
        "            batch_embeddings = F.normalize(batch_embeddings, p=2, dim=1)\n",
        "            \n",
        "            embeddings.append(batch_embeddings.cpu())\n",
        "    \n",
        "    # Concatenate all batches: List[Tensor] → [n_images, embedding_dim]\n",
        "    embeddings = torch.cat(embeddings, dim=0)\n",
        "    \n",
        "    print(f\"✅ {model_name} embeddings shape: {embeddings.shape}\")\n",
        "    print(f\"📊 Embedding range: [{embeddings.min():.3f}, {embeddings.max():.3f}]\")\n",
        "    print(f\"🔢 L2 norm check (should be ~1.0): {embeddings.norm(dim=1).mean():.3f}\")\n",
        "    \n",
        "    return embeddings\n",
        "\n",
        "# Extract embeddings from BiomedCLIP\n",
        "images = [dataset[i]['image'] for i in range(len(dataset))]\n",
        "embeddings_A = extract_embeddings(\n",
        "    model_biomedclip, \n",
        "    preprocess_biomedclip, \n",
        "    images, \n",
        "    model_name=\"BiomedCLIP\"\n",
        ")\n"
      ]
    },
    {
      "cell_type": "markdown",
      "metadata": {
        "vscode": {
          "languageId": "raw"
        }
      },
      "source": [
        "## 🧮 Step 5: Extract Embeddings from Model B\n",
        "\n",
        "**Input**: Same 200 PIL Images, OpenAI CLIP model\n",
        "**Output**: `embeddings_B`: [200, embedding_dim] normalized tensor\n",
        "**Fallback**: If OpenAI CLIP unavailable, create synthetic embeddings by adding noise\n"
      ]
    },
    {
      "cell_type": "code",
      "execution_count": 81,
      "metadata": {},
      "outputs": [
        {
          "name": "stdout",
          "output_type": "stream",
          "text": [
            "🔄 Extracting embeddings with OpenAI CLIP...\n"
          ]
        },
        {
          "name": "stderr",
          "output_type": "stream",
          "text": [
            "OpenAI CLIP encoding: 100%|██████████| 7/7 [00:02<00:00,  2.39it/s]"
          ]
        },
        {
          "name": "stdout",
          "output_type": "stream",
          "text": [
            "✅ OpenAI CLIP embeddings shape: torch.Size([200, 512])\n",
            "📊 Embedding range: [-0.787, 0.205]\n",
            "🔢 L2 norm check (should be ~1.0): 1.000\n",
            "\n",
            "📐 Final embedding dimensions:\n",
            "   Embeddings A (BiomedCLIP): torch.Size([200, 512])\n",
            "   Embeddings B (Comparison): torch.Size([200, 512])\n"
          ]
        },
        {
          "name": "stderr",
          "output_type": "stream",
          "text": [
            "\n"
          ]
        }
      ],
      "source": [
        "if model_openai is not None:\n",
        "    # Extract embeddings from OpenAI CLIP\n",
        "    embeddings_B = extract_embeddings(\n",
        "        model_openai,\n",
        "        preprocess_openai, \n",
        "        images,\n",
        "        model_name=\"OpenAI CLIP\"\n",
        "    )\n",
        "else:\n",
        "    # Fallback: Create synthetic embeddings for demonstration\n",
        "    print(\"🔄 Creating synthetic embeddings for comparison...\")\n",
        "    \n",
        "    # Add structured noise to BiomedCLIP embeddings to simulate different model\n",
        "    noise_scale = 0.3\n",
        "    noise = torch.randn_like(embeddings_A) * noise_scale\n",
        "    embeddings_B = embeddings_A + noise\n",
        "    \n",
        "    # Re-normalize after noise addition\n",
        "    embeddings_B = F.normalize(embeddings_B, p=2, dim=1)\n",
        "    \n",
        "    print(f\"✅ Synthetic embeddings shape: {embeddings_B.shape}\")\n",
        "    print(f\"📊 Noise scale applied: {noise_scale}\")\n",
        "    print(f\"🔢 L2 norm check: {embeddings_B.norm(dim=1).mean():.3f}\")\n",
        "\n",
        "print(f\"\\n📐 Final embedding dimensions:\")\n",
        "print(f\"   Embeddings A (BiomedCLIP): {embeddings_A.shape}\")\n",
        "print(f\"   Embeddings B (Comparison): {embeddings_B.shape}\")\n"
      ]
    },
    {
      "cell_type": "markdown",
      "metadata": {
        "vscode": {
          "languageId": "raw"
        }
      },
      "source": [
        "## 📏 Step 6: Compute Maximum Mean Discrepancy (MMD)\n",
        "\n",
        "**Following Paper's Method (Section 4.6)**:\n",
        "- Use RBF (Gaussian) kernel: K(x,y) = exp(-γ||x-y||²)\n",
        "- MMD² = E[k(x,x')] + E[k(y,y')] - 2E[k(x,y)]\n",
        "- Where x~P, y~Q are samples from two distributions\n",
        "\n",
        "**Input**: \n",
        "- `embeddings_A`: [200, dim] tensor\n",
        "- `embeddings_B`: [200, dim] tensor\n",
        "- `gamma`: RBF kernel bandwidth parameter\n",
        "\n",
        "**Output**: MMD statistic (scalar) measuring distribution difference\n"
      ]
    },
    {
      "cell_type": "code",
      "execution_count": 82,
      "metadata": {},
      "outputs": [
        {
          "name": "stdout",
          "output_type": "stream",
          "text": [
            "📏 Distance matrix shapes:\n",
            "   XX (A vs A): torch.Size([200, 200])\n",
            "   YY (B vs B): torch.Size([200, 200])\n",
            "   XY (A vs B): torch.Size([200, 200])\n",
            "🧮 MMD computation:\n",
            "   Term 1 (A-A): 0.307599\n",
            "   Term 2 (B-B): 0.639027\n",
            "   Term 3 (A-B): 0.144151\n",
            "   MMD²: 0.658324\n",
            "   MMD: 0.811372\n",
            "\n",
            "🎯 Observed MMD between models: 0.811372\n"
          ]
        }
      ],
      "source": [
        "def compute_mmd_rbf(X, Y, gamma=1.0):\n",
        "    \"\"\"\n",
        "    Compute MMD using RBF kernel following the paper's methodology\n",
        "    \n",
        "    Args:\n",
        "        X: [n_samples, dim] embeddings from model A\n",
        "        Y: [m_samples, dim] embeddings from model B  \n",
        "        gamma: RBF kernel bandwidth (default=1.0)\n",
        "    \n",
        "    Returns:\n",
        "        mmd: Maximum Mean Discrepancy statistic\n",
        "    \"\"\"\n",
        "    # Convert to float32 for numerical stability\n",
        "    X = X.float()\n",
        "    Y = Y.float()\n",
        "    \n",
        "    # Compute pairwise distances using torch.cdist\n",
        "    # X vs X: [n_samples, n_samples]\n",
        "    XX = torch.cdist(X, X, p=2)  \n",
        "    # Y vs Y: [m_samples, m_samples]\n",
        "    YY = torch.cdist(Y, Y, p=2)  \n",
        "    # X vs Y: [n_samples, m_samples]\n",
        "    XY = torch.cdist(X, Y, p=2)  \n",
        "    \n",
        "    print(f\"📏 Distance matrix shapes:\")\n",
        "    print(f\"   XX (A vs A): {XX.shape}\")\n",
        "    print(f\"   YY (B vs B): {YY.shape}\")\n",
        "    print(f\"   XY (A vs B): {XY.shape}\")\n",
        "    \n",
        "    # RBF kernel: K(x,y) = exp(-gamma * ||x-y||²)\n",
        "    K_XX = torch.exp(-gamma * XX**2)\n",
        "    K_YY = torch.exp(-gamma * YY**2)\n",
        "    K_XY = torch.exp(-gamma * XY**2)\n",
        "    \n",
        "    # MMD² = E[k(x,x')] + E[k(y,y')] - 2E[k(x,y)]\n",
        "    # Remove diagonal for unbiased estimation\n",
        "    n = X.shape[0]\n",
        "    m = Y.shape[0]\n",
        "    \n",
        "    # E[k(x,x')] - exclude diagonal\n",
        "    term1 = (K_XX.sum() - K_XX.diag().sum()) / (n * (n - 1))\n",
        "    \n",
        "    # E[k(y,y')] - exclude diagonal  \n",
        "    term2 = (K_YY.sum() - K_YY.diag().sum()) / (m * (m - 1))\n",
        "    \n",
        "    # E[k(x,y)] - all pairs\n",
        "    term3 = K_XY.mean()\n",
        "    \n",
        "    mmd_squared = term1 + term2 - 2 * term3\n",
        "    mmd = torch.sqrt(torch.clamp(mmd_squared, min=0))  # Ensure non-negative\n",
        "    \n",
        "    print(f\"🧮 MMD computation:\")\n",
        "    print(f\"   Term 1 (A-A): {term1:.6f}\")\n",
        "    print(f\"   Term 2 (B-B): {term2:.6f}\")\n",
        "    print(f\"   Term 3 (A-B): {term3:.6f}\")\n",
        "    print(f\"   MMD²: {mmd_squared:.6f}\")\n",
        "    print(f\"   MMD: {mmd:.6f}\")\n",
        "    \n",
        "    return mmd.item()\n",
        "\n",
        "# Compute observed MMD between the two models\n",
        "gamma = 1.0  # RBF kernel bandwidth\n",
        "observed_mmd = compute_mmd_rbf(embeddings_A, embeddings_B, gamma=gamma)\n",
        "\n",
        "print(f\"\\n🎯 Observed MMD between models: {observed_mmd:.6f}\")\n"
      ]
    },
    {
      "cell_type": "markdown",
      "metadata": {
        "vscode": {
          "languageId": "raw"
        }
      },
      "source": [
        "## 🔄 Step 7: Permutation Test for Statistical Significance\n",
        "\n",
        "**Following Paper's Method**: \n",
        "- Perform 100 permutation iterations (matching their methodology)\n",
        "- Randomly reassign samples between distributions\n",
        "- Recompute MMD to generate null distribution\n",
        "- p-value = fraction of null MMDs ≥ observed MMD\n",
        "\n",
        "**Input**: Combined embeddings [400, dim]\n",
        "**Output**: \n",
        "- `null_mmds`: [100] array of null distribution MMDs\n",
        "- `p_value`: Statistical significance\n",
        "- Target: p < 0.01 for significance (following paper's Wilcoxon threshold)\n"
      ]
    },
    {
      "cell_type": "code",
      "execution_count": 83,
      "metadata": {},
      "outputs": [
        {
          "name": "stdout",
          "output_type": "stream",
          "text": [
            "🔄 Running permutation test with 100 iterations...\n",
            "📊 Combined embeddings shape: torch.Size([400, 512])\n",
            "📏 Split sizes: A=200, B=200\n"
          ]
        },
        {
          "name": "stderr",
          "output_type": "stream",
          "text": [
            "Permutation test: 100%|██████████| 100/100 [00:00<00:00, 211.43it/s]"
          ]
        },
        {
          "name": "stdout",
          "output_type": "stream",
          "text": [
            "\n",
            "📈 Null distribution statistics:\n",
            "   Mean: 0.012691\n",
            "   Std: 0.022855\n",
            "   Range: [0.000000, 0.097671]\n",
            "\n",
            "🎯 Statistical Test Results:\n",
            "   Observed MMD: 0.811372\n",
            "   p-value: 0.0000\n",
            "   Significance threshold: p < 0.01\n",
            "✅ SIGNIFICANT: Models create statistically different embeddings (p=0.0000)\n"
          ]
        },
        {
          "name": "stderr",
          "output_type": "stream",
          "text": [
            "\n"
          ]
        }
      ],
      "source": [
        "def permutation_test_mmd(embeddings_A, embeddings_B, n_permutations=100, gamma=1.0):\n",
        "    \"\"\"\n",
        "    Perform permutation test following the paper's methodology\n",
        "    \n",
        "    Args:\n",
        "        embeddings_A: [n, dim] embeddings from model A\n",
        "        embeddings_B: [m, dim] embeddings from model B\n",
        "        n_permutations: Number of permutation iterations (100 in paper)\n",
        "        gamma: RBF kernel bandwidth\n",
        "    \n",
        "    Returns:\n",
        "        null_mmds: Array of MMD values under null hypothesis\n",
        "    \"\"\"\n",
        "    # Combine all embeddings: [n+m, dim]\n",
        "    all_embeddings = torch.cat([embeddings_A, embeddings_B], dim=0)\n",
        "    n_A = embeddings_A.shape[0]\n",
        "    n_B = embeddings_B.shape[0]\n",
        "    \n",
        "    print(f\"🔄 Running permutation test with {n_permutations} iterations...\")\n",
        "    print(f\"📊 Combined embeddings shape: {all_embeddings.shape}\")\n",
        "    print(f\"📏 Split sizes: A={n_A}, B={n_B}\")\n",
        "    \n",
        "    null_mmds = []\n",
        "    \n",
        "    for i in tqdm(range(n_permutations), desc=\"Permutation test\"):\n",
        "        # Randomly permute all samples\n",
        "        perm_indices = torch.randperm(len(all_embeddings))\n",
        "        permuted_embeddings = all_embeddings[perm_indices]\n",
        "        \n",
        "        # Split back into two groups (same sizes as original)\n",
        "        perm_A = permuted_embeddings[:n_A]  # [n_A, dim]\n",
        "        perm_B = permuted_embeddings[n_A:n_A+n_B]  # [n_B, dim]\n",
        "        \n",
        "        # Compute MMD under null hypothesis (silently)\n",
        "        with torch.no_grad():\n",
        "            X, Y = perm_A.float(), perm_B.float()\n",
        "            XX = torch.cdist(X, X, p=2)\n",
        "            YY = torch.cdist(Y, Y, p=2)\n",
        "            XY = torch.cdist(X, Y, p=2)\n",
        "            \n",
        "            K_XX = torch.exp(-gamma * XX**2)\n",
        "            K_YY = torch.exp(-gamma * YY**2)\n",
        "            K_XY = torch.exp(-gamma * XY**2)\n",
        "            \n",
        "            n, m = X.shape[0], Y.shape[0]\n",
        "            term1 = (K_XX.sum() - K_XX.diag().sum()) / (n * (n - 1))\n",
        "            term2 = (K_YY.sum() - K_YY.diag().sum()) / (m * (m - 1))\n",
        "            term3 = K_XY.mean()\n",
        "            \n",
        "            mmd_squared = term1 + term2 - 2 * term3\n",
        "            null_mmd = torch.sqrt(torch.clamp(mmd_squared, min=0)).item()\n",
        "            null_mmds.append(null_mmd)\n",
        "    \n",
        "    null_mmds = np.array(null_mmds)\n",
        "    \n",
        "    print(f\"\\n📈 Null distribution statistics:\")\n",
        "    print(f\"   Mean: {null_mmds.mean():.6f}\")\n",
        "    print(f\"   Std: {null_mmds.std():.6f}\")\n",
        "    print(f\"   Range: [{null_mmds.min():.6f}, {null_mmds.max():.6f}]\")\n",
        "    \n",
        "    return null_mmds\n",
        "\n",
        "# Run permutation test (100 iterations following the paper)\n",
        "null_mmds = permutation_test_mmd(\n",
        "    embeddings_A, \n",
        "    embeddings_B, \n",
        "    n_permutations=100, \n",
        "    gamma=gamma\n",
        ")\n",
        "\n",
        "# Calculate p-value\n",
        "p_value = (null_mmds >= observed_mmd).sum() / len(null_mmds)\n",
        "\n",
        "print(f\"\\n🎯 Statistical Test Results:\")\n",
        "print(f\"   Observed MMD: {observed_mmd:.6f}\")\n",
        "print(f\"   p-value: {p_value:.4f}\")\n",
        "print(f\"   Significance threshold: p < 0.01\")\n",
        "\n",
        "if p_value < 0.01:\n",
        "    print(f\"✅ SIGNIFICANT: Models create statistically different embeddings (p={p_value:.4f})\")\n",
        "elif p_value < 0.05:\n",
        "    print(f\"⚠️ MARGINALLY SIGNIFICANT: Some evidence of difference (p={p_value:.4f})\")\n",
        "else:\n",
        "    print(f\"❌ NOT SIGNIFICANT: No strong evidence of difference (p={p_value:.4f})\")\n"
      ]
    },
    {
      "cell_type": "markdown",
      "metadata": {
        "vscode": {
          "languageId": "raw"
        }
      },
      "source": [
        "## 📊 Step 8: Visualize Results\n",
        "\n",
        "**Following Paper's Approach**:\n",
        "- t-SNE visualization of embedding spaces (2D projection)\n",
        "- Histogram of null vs observed MMD values\n",
        "- Statistical significance assessment\n",
        "\n",
        "**Input**: \n",
        "- `embeddings_A`, `embeddings_B`: [200, dim] each\n",
        "- `null_mmds`: [100] null distribution\n",
        "- `observed_mmd`: scalar\n",
        "\n",
        "**Output**: Visualizations showing distribution differences\n"
      ]
    },
    {
      "cell_type": "code",
      "execution_count": 84,
      "metadata": {},
      "outputs": [
        {
          "name": "stdout",
          "output_type": "stream",
          "text": [
            "🔄 Computing t-SNE visualization...\n"
          ]
        },
        {
          "data": {
            "image/png": "[encoded data removed]",
            "text/plain": [
              "<Figure size 1500x600 with 2 Axes>"
            ]
          },
          "metadata": {},
          "output_type": "display_data"
        },
        {
          "name": "stdout",
          "output_type": "stream",
          "text": [
            "\n",
            "📊 Visualization completed!\n",
            "🔍 t-SNE shows spatial separation of embedding distributions\n",
            "📈 MMD test quantifies statistical significance of separation\n"
          ]
        }
      ],
      "source": [
        "# Create visualization following the paper's Figure 4 style\n",
        "fig, axes = plt.subplots(1, 2, figsize=(15, 6))\n",
        "\n",
        "# Left plot: t-SNE visualization of embeddings\n",
        "print(\"🔄 Computing t-SNE visualization...\")\n",
        "combined_embeddings = torch.cat([embeddings_A, embeddings_B], dim=0).numpy()\n",
        "labels = ['BiomedCLIP'] * len(embeddings_A) + ['Comparison Model'] * len(embeddings_B)\n",
        "\n",
        "# t-SNE with same parameters as paper (perplexity, learning rate may vary)\n",
        "tsne = TSNE(n_components=2, perplexity=30, random_state=42, max_iter=1000)\n",
        "embeddings_2d = tsne.fit_transform(combined_embeddings)\n",
        "\n",
        "# Plot t-SNE\n",
        "ax1 = axes[0]\n",
        "colors = ['#FF6B6B', '#4ECDC4']  # Red for BiomedCLIP, Teal for comparison\n",
        "for i, label in enumerate(['BiomedCLIP', 'Comparison Model']):\n",
        "    mask = np.array(labels) == label\n",
        "    ax1.scatter(embeddings_2d[mask, 0], embeddings_2d[mask, 1], \n",
        "               c=colors[i], label=label, alpha=0.7, s=30)\n",
        "\n",
        "ax1.set_title('t-SNE Visualization of Embedding Spaces\\n(Following Figure 4 methodology)', fontsize=12)\n",
        "ax1.set_xlabel('t-SNE Dimension 1')\n",
        "ax1.set_ylabel('t-SNE Dimension 2')\n",
        "ax1.legend()\n",
        "ax1.grid(True, alpha=0.3)\n",
        "\n",
        "# Right plot: MMD null distribution vs observed\n",
        "ax2 = axes[1]\n",
        "ax2.hist(null_mmds, bins=20, alpha=0.7, color='lightblue', \n",
        "         label=f'Null Distribution (n={len(null_mmds)})', density=True)\n",
        "ax2.axvline(observed_mmd, color='red', linestyle='--', linewidth=2,\n",
        "           label=f'Observed MMD = {observed_mmd:.4f}')\n",
        "\n",
        "ax2.set_title(f'MMD Permutation Test\\np-value = {p_value:.4f}', fontsize=12)\n",
        "ax2.set_xlabel('MMD Value')\n",
        "ax2.set_ylabel('Density')\n",
        "ax2.legend()\n",
        "ax2.grid(True, alpha=0.3)\n",
        "\n",
        "# Add significance annotation\n",
        "if p_value < 0.01:\n",
        "    significance_text = \"STATISTICALLY SIGNIFICANT\\n(p < 0.01)\"\n",
        "    text_color = 'green'\n",
        "else:\n",
        "    significance_text = \"NOT SIGNIFICANT\\n(p ≥ 0.01)\"\n",
        "    text_color = 'red'\n",
        "\n",
        "ax2.text(0.02, 0.98, significance_text, transform=ax2.transAxes, \n",
        "         verticalalignment='top', bbox=dict(boxstyle='round', facecolor='white', alpha=0.8),\n",
        "         color=text_color, fontweight='bold')\n",
        "\n",
        "plt.tight_layout()\n",
        "plt.show()\n",
        "\n",
        "print(f\"\\n📊 Visualization completed!\")\n",
        "print(f\"🔍 t-SNE shows spatial separation of embedding distributions\")\n",
        "print(f\"📈 MMD test quantifies statistical significance of separation\")\n"
      ]
    },
    {
      "cell_type": "markdown",
      "metadata": {
        "vscode": {
          "languageId": "raw"
        }
      },
      "source": [
        "## 📋 Step 9: Summary and Interpretation\n",
        "\n",
        "**Replicating Paper's Findings (Section 4.6)**:\n",
        "\n",
        "Following Baghbanzadeh et al.'s methodology, we compared embedding distributions from different CLIP models using Maximum Mean Discrepancy with RBF kernel and permutation testing.\n"
      ]
    },
    {
      "cell_type": "code",
      "execution_count": 85,
      "metadata": {},
      "outputs": [
        {
          "name": "stdout",
          "output_type": "stream",
          "text": [
            "================================================================================\n",
            "📊 EXPERIMENTAL RESULTS SUMMARY\n",
            "================================================================================\n",
            "\n",
            "🔬 METHODOLOGY (Following arXiv:2506.02738):\n",
            "   Dataset: ROCO medical images (n=200)\n",
            "   Model A: BiomedCLIP (medical specialist)\n",
            "   Model B: OpenAI CLIP (general purpose)\n",
            "   Kernel: RBF with γ=1.0\n",
            "   Permutations: 100 iterations\n",
            "\n",
            "📐 EMBEDDING STATISTICS:\n",
            "   Embeddings A shape: torch.Size([200, 512])\n",
            "   Embeddings B shape: torch.Size([200, 512])\n",
            "   L2 normalization: ✅ Applied\n",
            "   Device: cuda\n",
            "\n",
            "🎯 MMD ANALYSIS:\n",
            "   Observed MMD: 0.811372\n",
            "   Null mean ± std: 0.012691 ± 0.022855\n",
            "   Null range: [0.000000, 0.097671]\n",
            "\n",
            "📊 STATISTICAL SIGNIFICANCE:\n",
            "   p-value: 0.0000\n",
            "   Significance threshold: p < 0.01\n",
            "   ✅ CONCLUSION: Models create STATISTICALLY DIFFERENT embedding distributions\n",
            "      This supports the paper's finding that different training approaches\n",
            "      lead to measurably different representation spaces.\n",
            "\n",
            "🔗 REPRODUCTION STATUS:\n",
            "   Paper reference: Baghbanzadeh et al. 'Open-PMC-18M' (arXiv:2506.02738)\n",
            "   Method: Section 4.6 'Representations Analysis'\n",
            "   Replicated: MMD computation, permutation test, statistical framework\n",
            "================================================================================\n"
          ]
        }
      ],
      "source": [
        "print(\"=\" * 80)\n",
        "print(\"📊 EXPERIMENTAL RESULTS SUMMARY\")\n",
        "print(\"=\" * 80)\n",
        "\n",
        "print(f\"\\n🔬 METHODOLOGY (Following arXiv:2506.02738):\")\n",
        "print(f\"   Dataset: ROCO medical images (n={len(embeddings_A)})\")\n",
        "print(f\"   Model A: BiomedCLIP (medical specialist)\")\n",
        "print(f\"   Model B: {'OpenAI CLIP (general purpose)' if model_openai else 'Synthetic embeddings (noise-augmented)'}\")\n",
        "print(f\"   Kernel: RBF with γ={gamma}\")\n",
        "print(f\"   Permutations: {len(null_mmds)} iterations\")\n",
        "\n",
        "print(f\"\\n📐 EMBEDDING STATISTICS:\")\n",
        "print(f\"   Embeddings A shape: {embeddings_A.shape}\")\n",
        "print(f\"   Embeddings B shape: {embeddings_B.shape}\")\n",
        "print(f\"   L2 normalization: ✅ Applied\")\n",
        "print(f\"   Device: {device}\")\n",
        "\n",
        "print(f\"\\n🎯 MMD ANALYSIS:\")\n",
        "print(f\"   Observed MMD: {observed_mmd:.6f}\")\n",
        "print(f\"   Null mean ± std: {null_mmds.mean():.6f} ± {null_mmds.std():.6f}\")\n",
        "print(f\"   Null range: [{null_mmds.min():.6f}, {null_mmds.max():.6f}]\")\n",
        "\n",
        "print(f\"\\n📊 STATISTICAL SIGNIFICANCE:\")\n",
        "print(f\"   p-value: {p_value:.4f}\")\n",
        "print(f\"   Significance threshold: p < 0.01\")\n",
        "\n",
        "if p_value < 0.01:\n",
        "    print(f\"   ✅ CONCLUSION: Models create STATISTICALLY DIFFERENT embedding distributions\")\n",
        "    print(f\"      This supports the paper's finding that different training approaches\")\n",
        "    print(f\"      lead to measurably different representation spaces.\")\n",
        "elif p_value < 0.05:\n",
        "    print(f\"   ⚠️ CONCLUSION: WEAK evidence of distributional differences\")\n",
        "    print(f\"      May need larger sample size or different models for stronger effect.\")\n",
        "else:\n",
        "    print(f\"   ❌ CONCLUSION: NO significant distributional differences detected\")\n",
        "    print(f\"      Models may be more similar than expected, or sample size insufficient.\")\n",
        "\n",
        "print(f\"\\n🔗 REPRODUCTION STATUS:\")\n",
        "print(f\"   Paper reference: Baghbanzadeh et al. 'Open-PMC-18M' (arXiv:2506.02738)\")\n",
        "print(f\"   Method: Section 4.6 'Representations Analysis'\")\n",
        "print(f\"   Replicated: MMD computation, permutation test, statistical framework\")\n",
        "\n",
        "print(\"=\" * 80)\n"
      ]
    },
    {
      "cell_type": "markdown",
      "metadata": {
        "vscode": {
          "languageId": "raw"
        }
      },
      "source": [
        "## 📚 References and Resources\n",
        "\n",
        "### 📄 Primary Paper\n",
        "- **Open-PMC-18M**: Baghbanzadeh et al. \"Open-PMC-18M: A High-Fidelity Large Scale Medical Dataset for Multimodal Representation Learning\" [arXiv:2506.02738](https://arxiv.org/abs/2506.02738)\n",
        "\n",
        "### 🤖 Models Used\n",
        "\n",
        "#### BiomedCLIP (Medical Specialist)\n",
        "- **Paper**: Zhang et al. \"BiomedCLIP: a multimodal biomedical foundation model pretrained from fifteen million scientific image-text pairs\" [arXiv:2303.00915](https://arxiv.org/abs/2303.00915)\n",
        "- **Model Card**: [microsoft/BiomedCLIP-PubMedBERT_256-vit_base_patch16_224](https://huggingface.co/microsoft/BiomedCLIP-PubMedBERT_256-vit_base_patch16_224)\n",
        "- **GitHub**: [microsoft/BiomedCLIP](https://github.com/microsoft/BiomedCLIP)\n",
        "- **Training**: 15M biomedical image-text pairs from PMC articles\n",
        "\n",
        "#### OpenAI CLIP (General Purpose)\n",
        "- **Paper**: Radford et al. \"Learning Transferable Visual Models from Natural Language Supervision\" [arXiv:2103.00020](https://arxiv.org/abs/2103.00020) \n",
        "- **Model**: ViT-B/32 architecture via OpenCLIP\n",
        "- **Repository**: [OpenCLIP Implementation](https://github.com/mlfoundations/open_clip)\n",
        "- **Model List**: [Available OpenCLIP Models](https://github.com/mlfoundations/open_clip/blob/main/docs/openclip_results.csv)\n",
        "- **Training**: 400M image-text pairs from internet\n",
        "\n",
        "### 📊 Mathematical Framework\n",
        "- **Maximum Mean Discrepancy**: Gretton et al. \"A kernel two-sample test\" JMLR 2012 [Paper](https://jmlr.org/papers/v13/gretton12a.html)\n",
        "- **RBF Kernel**: K(x,y) = exp(-γ||x-y||²)\n",
        "- **MMD Estimator**: MMD²(P,Q) = E[k(x,x')] + E[k(y,y')] - 2E[k(x,y)]\n",
        "\n",
        "### 📊 Dataset Sources\n",
        "- **ROCO**: Pelka et al. \"Radiology Objects in Context (ROCO): a multimodal image dataset\" [Paper](https://link.springer.com/chapter/10.1007/978-3-030-01364-6_20)\n",
        "- **ROCO on HuggingFace**: [eljulio/ROCO](https://huggingface.co/datasets/eljulio/ROCO)\n",
        "\n",
        "### 💻 Implementation Libraries\n",
        "- **OpenCLIP**: [GitHub Repository](https://github.com/mlfoundations/open_clip) | [Documentation](https://github.com/mlfoundations/open_clip/blob/main/README.md)\n",
        "- **Hugging Face Transformers**: [Documentation](https://huggingface.co/docs/transformers/) | [Datasets](https://huggingface.co/docs/datasets/)\n",
        "- **PyTorch**: [Official Documentation](https://pytorch.org/docs/) | [GitHub](https://github.com/pytorch/pytorch)\n",
        "\n",
        "### 🔄 Reproducibility Details\n",
        "- **Permutation test**: 100 iterations (matching paper methodology)\n",
        "- **Significance threshold**: p < 0.01 (following paper's Wilcoxon test standard)\n",
        "- **RBF kernel bandwidth**: γ = 1.0 (standard choice for normalized embeddings)\n",
        "- **Sample size**: 200 images (computational efficiency, scalable to larger)\n",
        "- **Hardware**: CUDA-compatible GPU recommended for model inference\n",
        "- **Dependencies**: `torch`, `open_clip_torch`, `datasets`, `sklearn`, `matplotlib`\n"
      ]
    }
  ],
  "metadata": {
    "kernelspec": {
      "display_name": "biomedical-clip",
      "language": "python",
      "name": "python3"
    },
    "language_info": {
      "codemirror_mode": {
        "name": "ipython",
        "version": 3
      },
      "file_extension": ".py",
      "mimetype": "text/x-python",
      "name": "python",
      "nbconvert_exporter": "python",
      "pygments_lexer": "ipython3",
      "version": "3.12.11"
    }
  },
  "nbformat": 4,
  "nbformat_minor": 2
}
