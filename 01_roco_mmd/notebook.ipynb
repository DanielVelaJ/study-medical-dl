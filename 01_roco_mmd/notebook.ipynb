{
  "cells": [
    {
      "cell_type": "raw",
      "metadata": {
        "vscode": {
          "languageId": "raw"
        }
      },
      "source": [
        "# MMD Comparison: OPEN-PMC-18M vs PMC-6M Embeddings\n",
        "\n",
        "This notebook replicates the Figure 4 intuition from Alejandro Lozano's biomedical V-L pipeline paper ([arXiv 2506.02738](https://arxiv.org/abs/2506.02738)).\n",
        "\n",
        "**Goal**: Demonstrate that data quality reshapes the representation space using Maximum Mean Discrepancy (MMD) and permutation testing.\n",
        "\n",
        "## 🎯 Experiment Overview\n",
        "\n",
        "1. **Load Models**: BiomedCLIP (OPEN-PMC-18M) vs simulated PMC-6M baseline\n",
        "2. **Encode Images**: 200 ROCO test images with both models  \n",
        "3. **Statistical Test**: MMD + 100-shuffle permutation test\n",
        "4. **Visualize**: t-SNE embedding clouds + significance testing\n",
        "\n",
        "**Key Question**: Are the embedding clouds statistically different, even if they visually overlap?\n"
      ]
    },
    {
      "cell_type": "code",
      "execution_count": null,
      "metadata": {},
      "outputs": [],
      "source": [
        "# Import dependencies\n",
        "import numpy as np\n",
        "import matplotlib.pyplot as plt\n",
        "from encode import load_biomedclip, simulate_pmc6m_model, encode_image_batch, load_sample_images\n",
        "from mmd import permutation_test, mmd_rbf, interpret_mmd_result\n",
        "from tsne_plot import plot_tsne_comparison, plot_mmd_null_distribution, create_publication_figure\n",
        "\n",
        "print(\"🧬 Starting OPEN-PMC-18M vs PMC-6M comparison...\")\n"
      ]
    },
    {
      "cell_type": "raw",
      "metadata": {
        "vscode": {
          "languageId": "raw"
        }
      },
      "source": [
        "## Step 1: Load Models\n",
        "\n",
        "We load BiomedCLIP (representing OPEN-PMC-18M quality) and simulate the PMC-6M baseline by adding controlled noise.\n"
      ]
    },
    {
      "cell_type": "code",
      "execution_count": null,
      "metadata": {},
      "outputs": [],
      "source": [
        "# Load BiomedCLIP (OPEN-PMC-18M)\n",
        "model_a, preprocess_a = load_biomedclip()\n",
        "\n",
        "# Simulate PMC-6M baseline (with quality degradation)\n",
        "model_b = simulate_pmc6m_model(model_a, noise_level=0.1)\n",
        "\n",
        "print(\"✅ Models loaded successfully!\")\n"
      ]
    },
    {
      "cell_type": "code",
      "execution_count": null,
      "metadata": {},
      "outputs": [],
      "source": [
        "# Run MMD permutation test\n",
        "mmd_observed, p_value, null_mmds = permutation_test(\n",
        "    embeddings_a, \n",
        "    embeddings_b, \n",
        "    n_permutations=100,\n",
        "    mmd_func=mmd_rbf,\n",
        "    gamma=1.0  # RBF kernel bandwidth\n",
        ")\n",
        "\n",
        "# Print detailed results\n",
        "result_text = interpret_mmd_result(mmd_observed, p_value)\n",
        "print(result_text)\n"
      ]
    }
  ],
  "metadata": {
    "language_info": {
      "name": "python"
    }
  },
  "nbformat": 4,
  "nbformat_minor": 2
}
